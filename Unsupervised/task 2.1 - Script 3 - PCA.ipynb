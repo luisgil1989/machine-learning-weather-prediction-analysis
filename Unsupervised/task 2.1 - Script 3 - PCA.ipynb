{
 "cells": [
  {
   "cell_type": "markdown",
   "id": "6cf741b4",
   "metadata": {},
   "source": [
    "# 1 Import Data"
   ]
  },
  {
   "cell_type": "code",
   "execution_count": 1,
   "id": "eb681b3a",
   "metadata": {},
   "outputs": [],
   "source": [
    "import pandas as pd\n",
    "import os"
   ]
  },
  {
   "cell_type": "code",
   "execution_count": 2,
   "id": "4af28ce9",
   "metadata": {},
   "outputs": [],
   "source": [
    "# Set the path to the main project folder\n",
    "path = r'C:\\Users\\luis\\Desktop\\Carrer Foundry boot camp\\Machine Learning Specialization\\Data Sets'"
   ]
  },
  {
   "cell_type": "code",
   "execution_count": 3,
   "id": "ca073272",
   "metadata": {},
   "outputs": [],
   "source": [
    "# Import the orders data\n",
    "df = pd.read_csv(os.path.join(path, '80s_Weather_scaled.csv'))"
   ]
  },
  {
   "cell_type": "code",
   "execution_count": 4,
   "id": "ad4e7c5d",
   "metadata": {},
   "outputs": [
    {
     "data": {
      "text/html": [
       "<div>\n",
       "<style scoped>\n",
       "    .dataframe tbody tr th:only-of-type {\n",
       "        vertical-align: middle;\n",
       "    }\n",
       "\n",
       "    .dataframe tbody tr th {\n",
       "        vertical-align: top;\n",
       "    }\n",
       "\n",
       "    .dataframe thead th {\n",
       "        text-align: right;\n",
       "    }\n",
       "</style>\n",
       "<table border=\"1\" class=\"dataframe\">\n",
       "  <thead>\n",
       "    <tr style=\"text-align: right;\">\n",
       "      <th></th>\n",
       "      <th>DATE</th>\n",
       "      <th>MONTH</th>\n",
       "      <th>BASEL_temp_mean</th>\n",
       "      <th>BELGRADE_temp_mean</th>\n",
       "      <th>BUDAPEST_temp_mean</th>\n",
       "      <th>DEBILT_temp_mean</th>\n",
       "      <th>DUSSELDORF_temp_mean</th>\n",
       "      <th>GDANSK_temp_mean</th>\n",
       "      <th>HEATHROW_temp_mean</th>\n",
       "      <th>KASSEL_temp_mean</th>\n",
       "      <th>LJUBLJANA_temp_mean</th>\n",
       "      <th>MAASTRICHT_temp_mean</th>\n",
       "      <th>MADRID_temp_mean</th>\n",
       "      <th>MUNCHENB_temp_mean</th>\n",
       "      <th>OSLO_temp_mean</th>\n",
       "      <th>ROMA_temp_mean</th>\n",
       "      <th>SONNBLICK_temp_mean</th>\n",
       "      <th>STOCKHOLM_temp_mean</th>\n",
       "      <th>TOURS_temp_mean</th>\n",
       "      <th>VALENTIA_temp_mean</th>\n",
       "    </tr>\n",
       "  </thead>\n",
       "  <tbody>\n",
       "    <tr>\n",
       "      <th>0</th>\n",
       "      <td>19800101</td>\n",
       "      <td>1</td>\n",
       "      <td>-1.444209</td>\n",
       "      <td>-1.428479</td>\n",
       "      <td>-1.269419</td>\n",
       "      <td>-1.356022</td>\n",
       "      <td>-1.432024</td>\n",
       "      <td>-1.108021</td>\n",
       "      <td>-2.171863</td>\n",
       "      <td>-1.373112</td>\n",
       "      <td>-1.390799</td>\n",
       "      <td>-1.450023</td>\n",
       "      <td>-0.311157</td>\n",
       "      <td>-1.319862</td>\n",
       "      <td>-1.116626</td>\n",
       "      <td>-1.552995</td>\n",
       "      <td>-2.070328</td>\n",
       "      <td>-0.898228</td>\n",
       "      <td>-1.249587</td>\n",
       "      <td>-1.641922</td>\n",
       "    </tr>\n",
       "    <tr>\n",
       "      <th>1</th>\n",
       "      <td>19800102</td>\n",
       "      <td>1</td>\n",
       "      <td>-1.566772</td>\n",
       "      <td>-1.554529</td>\n",
       "      <td>-1.281054</td>\n",
       "      <td>-1.558895</td>\n",
       "      <td>-1.446441</td>\n",
       "      <td>-1.082513</td>\n",
       "      <td>-2.171863</td>\n",
       "      <td>-1.306064</td>\n",
       "      <td>-1.486870</td>\n",
       "      <td>-1.464922</td>\n",
       "      <td>-0.872664</td>\n",
       "      <td>-1.444156</td>\n",
       "      <td>-1.411235</td>\n",
       "      <td>-1.671414</td>\n",
       "      <td>-2.432437</td>\n",
       "      <td>-1.282795</td>\n",
       "      <td>-1.527087</td>\n",
       "      <td>-1.110077</td>\n",
       "    </tr>\n",
       "    <tr>\n",
       "      <th>2</th>\n",
       "      <td>19800103</td>\n",
       "      <td>1</td>\n",
       "      <td>-1.416973</td>\n",
       "      <td>-1.646201</td>\n",
       "      <td>-1.571908</td>\n",
       "      <td>-1.855402</td>\n",
       "      <td>-1.532946</td>\n",
       "      <td>-1.159035</td>\n",
       "      <td>-1.408716</td>\n",
       "      <td>-1.802219</td>\n",
       "      <td>-1.558924</td>\n",
       "      <td>-1.479821</td>\n",
       "      <td>-1.269828</td>\n",
       "      <td>-1.556020</td>\n",
       "      <td>-2.035805</td>\n",
       "      <td>-1.952658</td>\n",
       "      <td>-2.635218</td>\n",
       "      <td>-1.487096</td>\n",
       "      <td>-1.650420</td>\n",
       "      <td>-0.365493</td>\n",
       "    </tr>\n",
       "    <tr>\n",
       "      <th>3</th>\n",
       "      <td>19800104</td>\n",
       "      <td>1</td>\n",
       "      <td>-1.457827</td>\n",
       "      <td>-2.035811</td>\n",
       "      <td>-1.874396</td>\n",
       "      <td>-1.246783</td>\n",
       "      <td>-1.244597</td>\n",
       "      <td>-1.363093</td>\n",
       "      <td>-0.957766</td>\n",
       "      <td>-1.359702</td>\n",
       "      <td>-1.931200</td>\n",
       "      <td>-1.122243</td>\n",
       "      <td>-1.269828</td>\n",
       "      <td>-1.630596</td>\n",
       "      <td>-2.471826</td>\n",
       "      <td>-2.322715</td>\n",
       "      <td>-1.939969</td>\n",
       "      <td>-1.547184</td>\n",
       "      <td>-0.941254</td>\n",
       "      <td>-0.764377</td>\n",
       "    </tr>\n",
       "    <tr>\n",
       "      <th>4</th>\n",
       "      <td>19800105</td>\n",
       "      <td>1</td>\n",
       "      <td>-0.926723</td>\n",
       "      <td>-1.829547</td>\n",
       "      <td>-2.130347</td>\n",
       "      <td>-0.887854</td>\n",
       "      <td>-0.812074</td>\n",
       "      <td>-1.605411</td>\n",
       "      <td>-1.027143</td>\n",
       "      <td>-0.984234</td>\n",
       "      <td>-1.174638</td>\n",
       "      <td>-0.839161</td>\n",
       "      <td>-1.256133</td>\n",
       "      <td>-0.698395</td>\n",
       "      <td>-1.529078</td>\n",
       "      <td>-1.760227</td>\n",
       "      <td>-0.737767</td>\n",
       "      <td>-0.946299</td>\n",
       "      <td>-0.725422</td>\n",
       "      <td>-0.790969</td>\n",
       "    </tr>\n",
       "  </tbody>\n",
       "</table>\n",
       "</div>"
      ],
      "text/plain": [
       "       DATE  MONTH  BASEL_temp_mean  BELGRADE_temp_mean  BUDAPEST_temp_mean  \\\n",
       "0  19800101      1        -1.444209           -1.428479           -1.269419   \n",
       "1  19800102      1        -1.566772           -1.554529           -1.281054   \n",
       "2  19800103      1        -1.416973           -1.646201           -1.571908   \n",
       "3  19800104      1        -1.457827           -2.035811           -1.874396   \n",
       "4  19800105      1        -0.926723           -1.829547           -2.130347   \n",
       "\n",
       "   DEBILT_temp_mean  DUSSELDORF_temp_mean  GDANSK_temp_mean  \\\n",
       "0         -1.356022             -1.432024         -1.108021   \n",
       "1         -1.558895             -1.446441         -1.082513   \n",
       "2         -1.855402             -1.532946         -1.159035   \n",
       "3         -1.246783             -1.244597         -1.363093   \n",
       "4         -0.887854             -0.812074         -1.605411   \n",
       "\n",
       "   HEATHROW_temp_mean  KASSEL_temp_mean  LJUBLJANA_temp_mean  \\\n",
       "0           -2.171863         -1.373112            -1.390799   \n",
       "1           -2.171863         -1.306064            -1.486870   \n",
       "2           -1.408716         -1.802219            -1.558924   \n",
       "3           -0.957766         -1.359702            -1.931200   \n",
       "4           -1.027143         -0.984234            -1.174638   \n",
       "\n",
       "   MAASTRICHT_temp_mean  MADRID_temp_mean  MUNCHENB_temp_mean  OSLO_temp_mean  \\\n",
       "0             -1.450023         -0.311157           -1.319862       -1.116626   \n",
       "1             -1.464922         -0.872664           -1.444156       -1.411235   \n",
       "2             -1.479821         -1.269828           -1.556020       -2.035805   \n",
       "3             -1.122243         -1.269828           -1.630596       -2.471826   \n",
       "4             -0.839161         -1.256133           -0.698395       -1.529078   \n",
       "\n",
       "   ROMA_temp_mean  SONNBLICK_temp_mean  STOCKHOLM_temp_mean  TOURS_temp_mean  \\\n",
       "0       -1.552995            -2.070328            -0.898228        -1.249587   \n",
       "1       -1.671414            -2.432437            -1.282795        -1.527087   \n",
       "2       -1.952658            -2.635218            -1.487096        -1.650420   \n",
       "3       -2.322715            -1.939969            -1.547184        -0.941254   \n",
       "4       -1.760227            -0.737767            -0.946299        -0.725422   \n",
       "\n",
       "   VALENTIA_temp_mean  \n",
       "0           -1.641922  \n",
       "1           -1.110077  \n",
       "2           -0.365493  \n",
       "3           -0.764377  \n",
       "4           -0.790969  "
      ]
     },
     "execution_count": 4,
     "metadata": {},
     "output_type": "execute_result"
    }
   ],
   "source": [
    "df.head()"
   ]
  },
  {
   "cell_type": "markdown",
   "id": "832a64b9",
   "metadata": {},
   "source": [
    "# 2 PCA"
   ]
  },
  {
   "cell_type": "code",
   "execution_count": 5,
   "id": "13922f5d",
   "metadata": {},
   "outputs": [],
   "source": [
    "from sklearn.decomposition import PCA\n",
    "import numpy as np"
   ]
  },
  {
   "cell_type": "code",
   "execution_count": 6,
   "id": "1b9fddc9",
   "metadata": {},
   "outputs": [
    {
     "name": "stdout",
     "output_type": "stream",
     "text": [
      "[9.99999964e-01 2.16039404e-08 1.17658088e-08 7.30717018e-10\n",
      " 5.25719076e-10 4.67785045e-10 2.37695407e-10 2.13849251e-10\n",
      " 1.16946730e-10 1.07517749e-10 9.05640964e-11 7.92068567e-11\n",
      " 6.14349493e-11 4.70462676e-11 4.31640848e-11 3.14612779e-11\n",
      " 2.46644512e-11 2.39060892e-11 1.61073532e-11 7.93513438e-12]\n",
      "[0.99999996 0.99999999 1.         1.         1.         1.\n",
      " 1.         1.         1.         1.         1.         1.\n",
      " 1.         1.         1.         1.         1.         1.\n",
      " 1.         1.        ]\n"
     ]
    }
   ],
   "source": [
    "pca = PCA()\n",
    "pca.fit(df)\n",
    "explained_variance = pca.explained_variance_ratio_\n",
    "cumulative_variance = np.cumsum(explained_variance)\n",
    "\n",
    "# Display explained variance by each component\n",
    "print(explained_variance)\n",
    "\n",
    "# Display cumulative variance to determine optimal dimensions\n",
    "print(cumulative_variance)"
   ]
  },
  {
   "cell_type": "code",
   "execution_count": 7,
   "id": "0592f1bc",
   "metadata": {},
   "outputs": [
    {
     "data": {
      "image/png": "[encoded data removed]",
      "text/plain": [
       "<Figure size 640x480 with 1 Axes>"
      ]
     },
     "metadata": {},
     "output_type": "display_data"
    }
   ],
   "source": [
    "import matplotlib.pyplot as plt\n",
    "\n",
    "# Plot the explained variance\n",
    "plt.plot(cumulative_variance)\n",
    "plt.xlabel('Number of Components')\n",
    "plt.ylabel('Cumulative Explained Variance')\n",
    "plt.title('PCA: Cumulative Explained Variance')\n",
    "plt.grid(True)\n",
    "plt.show()"
   ]
  },
  {
   "cell_type": "code",
   "execution_count": 8,
   "id": "e1092670",
   "metadata": {},
   "outputs": [],
   "source": [
    "pca = PCA(n_components=10)  # Example: reduce to 10 components\n",
    "reduced_data = pca.fit_transform(df)"
   ]
  },
  {
   "cell_type": "code",
   "execution_count": 9,
   "id": "16954e31",
   "metadata": {},
   "outputs": [
    {
     "data": {
      "text/plain": [
       "array([[-4.55628563e+04,  7.62560455e+00, -1.76136075e+00, ...,\n",
       "        -1.13804028e+00, -5.25358465e-01,  7.13912945e-02],\n",
       "       [-4.55618563e+04,  8.04474435e+00, -1.49970784e+00, ...,\n",
       "        -5.69554236e-01, -4.81740535e-01,  2.35977561e-03],\n",
       "       [-4.55608563e+04,  8.39085657e+00, -1.26129942e+00, ...,\n",
       "         1.34739206e-01, -4.14918023e-01,  1.74302443e-01],\n",
       "       ...,\n",
       "       [ 4.55651437e+04,  1.91487734e+00,  7.56146801e+00, ...,\n",
       "         5.94479777e-01, -4.56763935e-01, -5.61150770e-02],\n",
       "       [ 4.55661437e+04,  1.81423859e+00,  7.51199340e+00, ...,\n",
       "         6.87538306e-01, -5.26605768e-01, -8.30262891e-02],\n",
       "       [ 4.55671437e+04,  1.96072915e+00,  7.59908279e+00, ...,\n",
       "         7.66973898e-01, -4.92402314e-01, -3.83737284e-02]])"
      ]
     },
     "execution_count": 9,
     "metadata": {},
     "output_type": "execute_result"
    }
   ],
   "source": [
    "reduced_data"
   ]
  },
  {
   "cell_type": "code",
   "execution_count": 11,
   "id": "dd06463b",
   "metadata": {},
   "outputs": [],
   "source": [
    "# Convert the NumPy array to a pandas DataFrame\n",
    "reduced_data = pd.DataFrame(reduced_data)\n",
    "\n",
    "# Define the custom directory path where you want to export the file\n",
    "output_path = os.path.join(path, 'reduced_data.csv')\n",
    "\n",
    "# Export the scaled dataframe to the specified CSV file\n",
    "reduced_data.to_csv(output_path, index=False)"
   ]
  },
  {
   "cell_type": "code",
   "execution_count": null,
   "id": "af5c7adb",
   "metadata": {},
   "outputs": [],
   "source": []
  },
  {
   "cell_type": "code",
   "execution_count": null,
   "id": "b3fefa83",
   "metadata": {},
   "outputs": [],
   "source": []
  },
  {
   "cell_type": "code",
   "execution_count": null,
   "id": "535f0ed7",
   "metadata": {},
   "outputs": [],
   "source": []
  },
  {
   "cell_type": "code",
   "execution_count": null,
   "id": "21e2f183",
   "metadata": {},
   "outputs": [],
   "source": []
  }
 ],
 "metadata": {
  "kernelspec": {
   "display_name": "Python 3 (ipykernel)",
   "language": "python",
   "name": "python3"
  },
  "language_info": {
   "codemirror_mode": {
    "name": "ipython",
    "version": 3
   },
   "file_extension": ".py",
   "mimetype": "text/x-python",
   "name": "python",
   "nbconvert_exporter": "python",
   "pygments_lexer": "ipython3",
   "version": "3.11.7"
  }
 },
 "nbformat": 4,
 "nbformat_minor": 5
}
